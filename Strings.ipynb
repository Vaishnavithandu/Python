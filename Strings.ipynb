{
  "cells": [
    {
      "cell_type": "markdown",
      "metadata": {
        "id": "EF1H5gaL_R3o"
      },
      "source": [
        "# **Introduction to Strings**\n",
        "\n",
        "Strings are immutable, so they cannot be modified once created."
      ]
    },
    {
      "cell_type": "code",
      "execution_count": null,
      "metadata": {
        "colab": {
          "base_uri": "https://localhost:8080/",
          "height": 176
        },
        "id": "QI5vZbMajzIG",
        "outputId": "96273b08-515c-4369-caad-4dd4d2d70249"
      },
      "outputs": [
        {
          "ename": "TypeError",
          "evalue": "'str' object does not support item assignment",
          "output_type": "error",
          "traceback": [
            "\u001b[0;31m---------------------------------------------------------------------------\u001b[0m",
            "\u001b[0;31mTypeError\u001b[0m                                 Traceback (most recent call last)",
            "\u001b[0;32m/tmp/ipython-input-2983238328.py\u001b[0m in \u001b[0;36m<cell line: 0>\u001b[0;34m()\u001b[0m\n\u001b[1;32m      1\u001b[0m \u001b[0mtext\u001b[0m \u001b[0;34m=\u001b[0m \u001b[0;34m\"Hello\"\u001b[0m\u001b[0;34m\u001b[0m\u001b[0;34m\u001b[0m\u001b[0m\n\u001b[1;32m      2\u001b[0m \u001b[0;31m# Trying to change first character\u001b[0m\u001b[0;34m\u001b[0m\u001b[0;34m\u001b[0m\u001b[0m\n\u001b[0;32m----> 3\u001b[0;31m \u001b[0mtext\u001b[0m\u001b[0;34m[\u001b[0m\u001b[0;36m0\u001b[0m\u001b[0;34m]\u001b[0m \u001b[0;34m=\u001b[0m \u001b[0;34m\"J\"\u001b[0m\u001b[0;34m\u001b[0m\u001b[0;34m\u001b[0m\u001b[0m\n\u001b[0m",
            "\u001b[0;31mTypeError\u001b[0m: 'str' object does not support item assignment"
          ]
        }
      ],
      "source": [
        "text = \"Hello\"\n",
        "# Trying to change first character\n",
        "text[0] = \"J\""
      ]
    },
    {
      "cell_type": "code",
      "execution_count": null,
      "metadata": {
        "colab": {
          "base_uri": "https://localhost:8080/"
        },
        "id": "ZbvncFmMlL42",
        "outputId": "c5a5daeb-63da-4f55-e752-371729044692"
      },
      "outputs": [
        {
          "name": "stdout",
          "output_type": "stream",
          "text": [
            "Jello\n"
          ]
        }
      ],
      "source": [
        "text = \"Hello\"\n",
        "text = \"J\" + text[1:]\n",
        "print(text)"
      ]
    },
    {
      "cell_type": "markdown",
      "metadata": {
        "id": "mTpK-RvHj0n9"
      },
      "source": [
        "**Defining Strings :**\n",
        "\n",
        "String is a sequence of characters enclosed within single quotes(' '), double quotes(\" \"), or Triple quotes(''' ''' or \"\"\" \"\"\")"
      ]
    },
    {
      "cell_type": "code",
      "execution_count": null,
      "metadata": {
        "colab": {
          "base_uri": "https://localhost:8080/"
        },
        "id": "hejpNWoX-gvL",
        "outputId": "12f010ce-b09e-4c49-ef54-c9f112ace886"
      },
      "outputs": [
        {
          "name": "stdout",
          "output_type": "stream",
          "text": [
            "Hello\n",
            "world\n",
            "This is a multi-line  \n",
            "string example.\n"
          ]
        }
      ],
      "source": [
        "str1 = 'Hello'  # Single quotes\n",
        "str2 = \"world\"  # Double quotes\n",
        "str3 = '''This is a multi-line\n",
        "string example.'''   # Triple quotes (used for multi-line text)\n",
        "\n",
        "print(str1)\n",
        "print(str2)\n",
        "print(str3)"
      ]
    },
    {
      "cell_type": "markdown",
      "metadata": {
        "id": "YGz5Jhwrmq6t"
      },
      "source": [
        "# Operations on Strings\n",
        "\n",
        "1) Concatenation (+)\n",
        "\n",
        "2) Repetition (*)\n",
        "\n",
        "3) Indexing\n",
        "\n",
        "4) Slicing\n",
        "\n",
        "5) Membership (in, not in)"
      ]
    },
    {
      "cell_type": "markdown",
      "metadata": {
        "id": "YFDivPav39le"
      },
      "source": [
        "**1) Concatenation ( + ):**\n",
        "\n",
        "Joining two or more strings together using the + operator"
      ]
    },
    {
      "cell_type": "code",
      "execution_count": 1,
      "metadata": {
        "colab": {
          "base_uri": "https://localhost:8080/"
        },
        "id": "fGDxwDVnf6e-",
        "outputId": "f4945798-92f6-4fad-bdd9-9590e25ca43f"
      },
      "outputs": [
        {
          "name": "stdout",
          "output_type": "stream",
          "text": [
            "First Name: Vaishnavi\n",
            "Last Name: Thandu\n",
            "Full Name: Vaishnavi Thandu\n"
          ]
        }
      ],
      "source": [
        "first_name = \"Vaishnavi\"\n",
        "last_name = \"Thandu\"\n",
        "\n",
        "# Concatenation\n",
        "full_name = first_name + \" \" + last_name\n",
        "\n",
        "print(\"First Name:\", first_name)\n",
        "print(\"Last Name:\", last_name)\n",
        "print(\"Full Name:\", full_name)\n",
        "\n"
      ]
    },
    {
      "cell_type": "code",
      "execution_count": null,
      "metadata": {
        "colab": {
          "base_uri": "https://localhost:8080/"
        },
        "id": "E1bOj3xMqHEo",
        "outputId": "9886ded7-e67f-42e7-8901-3bfbe6236fb6"
      },
      "outputs": [
        {
          "name": "stdout",
          "output_type": "stream",
          "text": [
            "Hello World\n"
          ]
        }
      ],
      "source": [
        "print(\"Hello\" + \" \" + \"World\")"
      ]
    },
    {
      "cell_type": "code",
      "execution_count": null,
      "metadata": {
        "colab": {
          "base_uri": "https://localhost:8080/"
        },
        "id": "U1vB_bXKqRs_",
        "outputId": "1b350b18-0afd-4e2f-a289-c7dff90e8434"
      },
      "outputs": [
        {
          "name": "stdout",
          "output_type": "stream",
          "text": [
            " My name is Alice and I am 21 years old. \n",
            " My name is Alice and I am 21 years old.\n"
          ]
        }
      ],
      "source": [
        "name = \"Alice\"\n",
        "age = 21\n",
        "\n",
        "print(\" My name is \" + name + \" and I am \" + str(age) + \" years old. \")\n",
        "\n",
        "print(f' My name is {name} and I am {age} years old.')"
      ]
    },
    {
      "cell_type": "markdown",
      "metadata": {
        "id": "dpJNNIiU3qV8"
      },
      "source": [
        "**2) Repetative ( * ) :**\n",
        "\n",
        "The ' * ' operator repeats a string multiple times."
      ]
    },
    {
      "cell_type": "code",
      "execution_count": null,
      "metadata": {
        "colab": {
          "base_uri": "https://localhost:8080/"
        },
        "id": "YTpawGhBrSsE",
        "outputId": "5131bb4a-808f-496f-c689-f369de00e4b1"
      },
      "outputs": [
        {
          "name": "stdout",
          "output_type": "stream",
          "text": [
            "Hello Hello Hello \n"
          ]
        }
      ],
      "source": [
        "word = \"Hello \"\n",
        "print(word * 3)"
      ]
    },
    {
      "cell_type": "code",
      "execution_count": null,
      "metadata": {
        "colab": {
          "base_uri": "https://localhost:8080/"
        },
        "id": "XUASwqUNsw7v",
        "outputId": "ef1200a7-7c99-4f44-9d02-b8c4616d6110"
      },
      "outputs": [
        {
          "name": "stdout",
          "output_type": "stream",
          "text": [
            "PythonPythonPythonPythonPython\n"
          ]
        }
      ],
      "source": [
        "text = \"Python\"  # repetition without Space\n",
        "print(text*5)"
      ]
    },
    {
      "cell_type": "code",
      "execution_count": null,
      "metadata": {
        "colab": {
          "base_uri": "https://localhost:8080/"
        },
        "id": "QNMsI5WQt54F",
        "outputId": "d07fd469-6b18-4b3b-d352-49bd16f72899"
      },
      "outputs": [
        {
          "name": "stdout",
          "output_type": "stream",
          "text": [
            "------------------------------\n",
            "Welcome to Python Programming\n",
            "------------------------------\n"
          ]
        }
      ],
      "source": [
        "line = \"-\" * 30  # Divider Line\n",
        "print(line)\n",
        "print(\"Welcome to Python Programming\")\n",
        "print(line)"
      ]
    },
    {
      "cell_type": "code",
      "execution_count": null,
      "metadata": {
        "colab": {
          "base_uri": "https://localhost:8080/"
        },
        "id": "8rUyiGtUuk0V",
        "outputId": "5ce46c03-db08-4762-c325-1e1ae24f073a"
      },
      "outputs": [
        {
          "name": "stdout",
          "output_type": "stream",
          "text": [
            "*\n",
            "**\n",
            "***\n",
            "****\n",
            "*****\n"
          ]
        }
      ],
      "source": [
        "for i in range(1, 6):   # Loop from 1 to 5\n",
        "    print(\"*\" * i)"
      ]
    },
    {
      "cell_type": "code",
      "execution_count": null,
      "metadata": {
        "colab": {
          "base_uri": "https://localhost:8080/"
        },
        "id": "bFMC6vCxvgNC",
        "outputId": "08c8e286-a04f-4842-a292-a78712f35be4"
      },
      "outputs": [
        {
          "name": "stdout",
          "output_type": "stream",
          "text": [
            "55555\n",
            "4444\n",
            "333\n",
            "22\n",
            "1\n"
          ]
        }
      ],
      "source": [
        "for i in range(5, 0, -1):   # Loop from 5 down to 1\n",
        "    print(str(i) * i)"
      ]
    },
    {
      "cell_type": "markdown",
      "metadata": {
        "id": "ZFyQ-6fo2siN"
      },
      "source": [
        "**3) Indexing :**\n",
        "\n",
        "Accessing individual characters of a string using their position number (index)."
      ]
    },
    {
      "cell_type": "code",
      "execution_count": null,
      "metadata": {
        "colab": {
          "base_uri": "https://localhost:8080/"
        },
        "id": "3iQsjesuv9ro",
        "outputId": "182c050e-2280-488f-abae-80c9c107bcc7"
      },
      "outputs": [
        {
          "name": "stdout",
          "output_type": "stream",
          "text": [
            "P\n",
            "y\n",
            "n\n",
            "n\n",
            "o\n",
            "P\n"
          ]
        }
      ],
      "source": [
        "'''\n",
        " 0  1  2  3  4  5\n",
        " P  Y  T  H  O  N\n",
        "-6 -5 -4 -3 -2 -1\n",
        "\n",
        "'''\n",
        "# Positive Indexing\n",
        "s = \"Python\"\n",
        "print(s[0])\n",
        "print(s[1])\n",
        "print(s[5])\n",
        "\n",
        "# Negative Indexing\n",
        "print(s[-1])\n",
        "print(s[-2])\n",
        "print(s[-6])\n"
      ]
    },
    {
      "cell_type": "markdown",
      "metadata": {
        "id": "EPmBgfZ82KLo"
      },
      "source": [
        "**4) Slicing :**\n",
        "\n",
        "Extracting a portion (substring) from a string using,\n",
        "\n",
        "string [start : end] / [start : end +1 : step]"
      ]
    },
    {
      "cell_type": "code",
      "execution_count": 2,
      "metadata": {
        "colab": {
          "base_uri": "https://localhost:8080/"
        },
        "id": "ntBWziXf0xo-",
        "outputId": "36ead664-ea7f-4871-a75f-7cb945588516"
      },
      "outputs": [
        {
          "name": "stdout",
          "output_type": "stream",
          "text": [
            "Progra\n",
            "gram\n"
          ]
        }
      ],
      "source": [
        "'''\n",
        " 0   1   2  3  4  5  6  7  8  9  10\n",
        " P   r   o  g  r  a  m  m  i  n  g\n",
        "-11 -10 -9 -8 -7 -6 -5 -4 -3 -2 -1\n",
        "\n",
        "'''\n",
        "\n",
        "text = \"Programming\"\n",
        "\n",
        "print(text[0:6])\n",
        "print(text[3:7])"
      ]
    },
    {
      "cell_type": "code",
      "execution_count": 12,
      "metadata": {
        "colab": {
          "base_uri": "https://localhost:8080/"
        },
        "id": "nOMXW4GyQNDi",
        "outputId": "64925bab-91ca-4b9d-e985-0c44ff9d9852"
      },
      "outputs": [
        {
          "name": "stdout",
          "output_type": "stream",
          "text": [
            "Vaishnavi\n",
            "Thandu\n",
            "shnavi\n",
            "snv\n"
          ]
        }
      ],
      "source": [
        "'''\n",
        " 0   1   2   3   4   5   6  7  8  9 10 11 12 13 14\n",
        " V   a   i   s   h   n   a  v  i  T  h  a  n  d  u\n",
        "-15 -14 -13 -12 -11 -10 -9 -8 -7 -6 -5 -4 -3 -2 -1\n",
        "\n",
        "'''\n",
        "\n",
        "name = \"VaishnaviThandu\"\n",
        "print(name[:9])  # default start is 0\n",
        "print(name[9:])  # from index 9 to end\n",
        "print(name[3:9])\n",
        "print(name[3:9:2])"
      ]
    },
    {
      "cell_type": "code",
      "execution_count": 13,
      "metadata": {
        "colab": {
          "base_uri": "https://localhost:8080/"
        },
        "id": "w3xV-fDUQQuw",
        "outputId": "a2261aa8-fa58-4238-de3b-8e127aa8442f"
      },
      "outputs": [
        {
          "name": "stdout",
          "output_type": "stream",
          "text": [
            "Thandu\n",
            "Vaishnavi\n",
            "VaishnaviTha\n"
          ]
        }
      ],
      "source": [
        "# Negative Slicing\n",
        "\n",
        "name = \"VaishnaviThandu\"\n",
        "print(name[-6: ])\n",
        "print(name[-15:-6])\n",
        "print(name[:-3])"
      ]
    },
    {
      "cell_type": "code",
      "execution_count": 19,
      "metadata": {
        "colab": {
          "base_uri": "https://localhost:8080/"
        },
        "id": "i97aHLa1RATa",
        "outputId": "443d740d-33fd-46db-e721-7356846443f1"
      },
      "outputs": [
        {
          "name": "stdout",
          "output_type": "stream",
          "text": [
            "gnimmargorP\n",
            "Pgmn\n",
            "Pormig\n",
            "rgamn\n"
          ]
        }
      ],
      "source": [
        "name = \"Programming\"\n",
        "print(name[ : :-1])  # Reverse the string\n",
        "print(name[: : 3])   # Every 3rd character\n",
        "\n",
        "print(name[:12:2])  # get Even Positions\n",
        "print(name[1:12:2]) # get Odd Positions"
      ]
    },
    {
      "cell_type": "markdown",
      "metadata": {
        "id": "wCzx7pSPUzW0"
      },
      "source": [
        "**5) Membership**\n",
        "\n",
        "We have two membership operators:\n",
        "\n",
        "in → checks if a substring exists in the string.\n",
        "\n",
        "not in → checks if a substring does NOT exist in the string.\n"
      ]
    },
    {
      "cell_type": "code",
      "execution_count": 14,
      "metadata": {
        "colab": {
          "base_uri": "https://localhost:8080/"
        },
        "id": "zLTW-CIJSspa",
        "outputId": "9af72321-d78e-40a0-bf7b-d7d38053730b"
      },
      "outputs": [
        {
          "name": "stdout",
          "output_type": "stream",
          "text": [
            "True\n",
            "True\n",
            "False\n",
            "True\n",
            "False\n"
          ]
        }
      ],
      "source": [
        "word = \"Education\"\n",
        "\n",
        "print(\"cat\" in word)\n",
        "print(\"Edu\" in word)\n",
        "print(\"abc\" in word)\n",
        "\n",
        "print(\"xyz\" not in word)\n",
        "print(\"tion\" not in word)\n"
      ]
    },
    {
      "cell_type": "code",
      "execution_count": 16,
      "metadata": {
        "colab": {
          "base_uri": "https://localhost:8080/"
        },
        "id": "fi_vSaz_Wb8s",
        "outputId": "cdb513e5-aaa3-4e0e-83bb-c403ebc046cf"
      },
      "outputs": [
        {
          "name": "stdout",
          "output_type": "stream",
          "text": [
            "True\n",
            "False\n"
          ]
        }
      ],
      "source": [
        "s = \"Python Programming\"\n",
        "\n",
        "print(\"Python\" in s)  # True\n",
        "print(\"python\" in s)  # False (case-sensitive)"
      ]
    },
    {
      "cell_type": "code",
      "execution_count": 17,
      "metadata": {
        "colab": {
          "base_uri": "https://localhost:8080/"
        },
        "id": "bDmze4A8W7qo",
        "outputId": "4c82260b-e370-4842-8c76-28f7d6df483e"
      },
      "outputs": [
        {
          "name": "stdout",
          "output_type": "stream",
          "text": [
            "Password is weak (add @, #, or $).\n"
          ]
        }
      ],
      "source": [
        "password = \"python123\"\n",
        "\n",
        "if \"@\" in password or \"#\" in password or \"$\" in password:\n",
        "    print(\"Password is strong (contains special character).\")\n",
        "else:\n",
        "    print(\"Password is weak (add @, #, or $).\")"
      ]
    },
    {
      "cell_type": "markdown",
      "metadata": {
        "id": "wRV0KMITaCBJ"
      },
      "source": [
        "# Built-in String Functions\n",
        "1) len ( ) : Returns the length / no.of characters in the string (including apaces,numbers, and symbols) .\n",
        "\n",
        "2) max ( ) / min ( ) : Returns the maximum or minimum character(based on ASCII values).\n",
        "\n",
        "3) sorted ( ) : Returns a sorted list of characters.\n",
        "\n",
        "4) chr ( ) / ord ( ) : converts between characters and their ASCII codes."
      ]
    },
    {
      "cell_type": "code",
      "execution_count": 27,
      "metadata": {
        "colab": {
          "base_uri": "https://localhost:8080/"
        },
        "id": "aqn0Op7DZqqu",
        "outputId": "70695f7f-f231-4f2b-de4d-59e2010afaed"
      },
      "outputs": [
        {
          "name": "stdout",
          "output_type": "stream",
          "text": [
            "13\n",
            "10\n",
            "Messagr length:  21\n",
            "Food in stomach:  0\n"
          ]
        }
      ],
      "source": [
        "# Len():\n",
        "\n",
        "sentence = \"Python is Fun\"\n",
        "print(len(sentence))\n",
        "\n",
        "text = \"Hello123!@\"\n",
        "print(len(text))\n",
        "\n",
        "msg = \"Hiiiiiiiiiiiiiiiiiiii\"\n",
        "print(\"Messagr length: \",len(msg))\n",
        "\n",
        "stomach = \"\"\n",
        "print(\"Food in stomach: \",len(stomach))\n",
        "\n"
      ]
    },
    {
      "cell_type": "code",
      "execution_count": 35,
      "metadata": {
        "colab": {
          "base_uri": "https://localhost:8080/"
        },
        "id": "ZjOIEAr5gwzE",
        "outputId": "7cbbe1bf-1b10-4b70-a0b8-b128f06cf5cb"
      },
      "outputs": [
        {
          "name": "stdout",
          "output_type": "stream",
          "text": [
            "Maximum character: v\n",
            "Minimum character: a\n",
            "Highest Marks: 89\n",
            "Lowest Marks: 23\n"
          ]
        }
      ],
      "source": [
        "# max()/min():\n",
        "\n",
        "name = \"vaishnavi\"\n",
        "print(\"Maximum character:\", max(name))\n",
        "print(\"Minimum character:\", min(name))\n",
        "\n",
        "marks = [45, 68, 85, 23, 89, 36]\n",
        "print(\"Highest Marks:\", max(marks))\n",
        "print(\"Lowest Marks:\", min(marks))\n"
      ]
    },
    {
      "cell_type": "code",
      "execution_count": 40,
      "metadata": {
        "colab": {
          "base_uri": "https://localhost:8080/"
        },
        "id": "kCpf4GPKja4m",
        "outputId": "f5ee4160-41bb-489c-b2d1-d221610c8b49"
      },
      "outputs": [
        {
          "name": "stdout",
          "output_type": "stream",
          "text": [
            "Original: Sebastian\n",
            "Sorted: ['S', 'a', 'a', 'b', 'e', 'i', 'n', 's', 't']\n",
            "Sorted word: ['a', 'a', 'a', 'b', 'n', 'n']\n",
            "Ascending: ['h', 'n', 'o', 'p', 't', 'y']\n",
            "Decending: ['y', 't', 'p', 'o', 'n', 'h']\n"
          ]
        }
      ],
      "source": [
        "# sorted():\n",
        "\n",
        "name = \"Sebastian\"\n",
        "print(\"Original:\", name)\n",
        "print(\"Sorted:\", sorted(name))\n",
        "\n",
        "word = \"banana\"\n",
        "print(\"Sorted word:\",sorted(word))\n",
        "\n",
        "name = \"python\"\n",
        "print(\"Ascending:\",sorted(name))\n",
        "print(\"Decending:\",sorted(name, reverse= True))  # by adding 'reverse=True',it arranges things from Z to A"
      ]
    },
    {
      "cell_type": "code",
      "execution_count": 46,
      "metadata": {
        "colab": {
          "base_uri": "https://localhost:8080/"
        },
        "id": "IwLVppcdoJoj",
        "outputId": "656905aa-fdae-4c8e-d2a8-e972e2ca0fe5"
      },
      "outputs": [
        {
          "name": "stdout",
          "output_type": "stream",
          "text": [
            "65\n",
            "97\n",
            "128512\n",
            "A\n",
            "a\n",
            "😀\n",
            "79\n",
            "101\n",
            "r\n",
            "i\n"
          ]
        }
      ],
      "source": [
        "# chr() and ord():\n",
        "\n",
        "print(ord('A'))  # ASCII value of 'A' is 65\n",
        "print(ord('a'))  # ASCII value of 'a' is 97\n",
        "print(ord('😀'))\n",
        "\n",
        "print(chr(65))\n",
        "print(chr(97))\n",
        "print(chr(128512))\n",
        "\n",
        "name = \"Oliver\"\n",
        "\n",
        "print(ord('O'))\n",
        "print(ord('e'))\n",
        "print(chr(114))\n",
        "print(chr(105))\n"
      ]
    },
    {
      "cell_type": "markdown",
      "metadata": {
        "id": "ysan5Zo8q16d"
      },
      "source": [
        "# String Methods:\n",
        "\n",
        "1) Case Conversion Methods\n",
        "\n",
        "2) Alignment & Formating Methods\n",
        "\n",
        "3) Search & Find Methods\n",
        "\n",
        "4) String Testing Methods(Boolean Results)"
      ]
    },
    {
      "cell_type": "markdown",
      "metadata": {
        "id": "DM-wCZO1rt0J"
      },
      "source": [
        "**1) Case Conversion Method**\n",
        "\n",
        "1. upper ( ) : Converts all characters to uppercase.\n",
        "\n",
        "2. lower ( ) : Converts all characters to lowercase.\n",
        "\n",
        "3. capitalize ( ) : Capitalizes the first character.\n",
        "\n",
        "4. title ( ) : Capitalizes the first letter of each word.\n",
        "\n",
        "5. swapcase ( ) : Swaps case: upper → lower, lower → upper.\n",
        "\n",
        "6. casefold ( ) : Converts to lowercase ( more aggressive than lower ( ) )."
      ]
    },
    {
      "cell_type": "code",
      "execution_count": 15,
      "metadata": {
        "colab": {
          "base_uri": "https://localhost:8080/"
        },
        "collapsed": true,
        "id": "48MvgQqWqsjL",
        "outputId": "f280d6b4-d64a-4c0d-ba8d-c625e7ae2975"
      },
      "outputs": [
        {
          "name": "stdout",
          "output_type": "stream",
          "text": [
            "VAISHNAVI\n",
            "hyderabad\n",
            "Hello world, welcome to python\n",
            "Friday Evenings Are For Popcorn And Movies\n",
            "nEvEr StOp lEaRnInG\n",
            "python is awesome\n",
            "strasse\n",
            "True\n",
            "i̇stanbul\n",
            "தமிழ்\n"
          ]
        }
      ],
      "source": [
        "name = \"vaishnavi\"\n",
        "print(name.upper())"
      ]
    },
    {
      "cell_type": "code",
      "execution_count": null,
      "metadata": {
        "id": "nCGMtpdS7Qjw"
      },
      "outputs": [],
      "source": [
        "# lower()\n",
        "\n",
        "city = \"HYDERABAD\"\n",
        "print(city.lower())"
      ]
    },
    {
      "cell_type": "code",
      "execution_count": null,
      "metadata": {
        "id": "pR3Fku4q7bee"
      },
      "outputs": [],
      "source": [
        "# capitalize()\n",
        "\n",
        "msg = \"hello world, welcome to python\"\n",
        "print(msg.capitalize())"
      ]
    },
    {
      "cell_type": "code",
      "execution_count": null,
      "metadata": {
        "id": "GvPC5wik8Xb6"
      },
      "outputs": [],
      "source": [
        "# title()\n",
        "\n",
        "sentence = \"friday evenings are for popcorn and movies\"\n",
        "print(sentence.title())"
      ]
    },
    {
      "cell_type": "code",
      "execution_count": null,
      "metadata": {
        "id": "MnMTOfAC8QKH"
      },
      "outputs": [],
      "source": [
        "# swapcase()\n",
        "\n",
        "word = \"NeVeR sToP LeArNiNg\"\n",
        "print(word.swapcase())"
      ]
    },
    {
      "cell_type": "code",
      "execution_count": null,
      "metadata": {
        "id": "aU4Dxnef7nTd"
      },
      "outputs": [],
      "source": [
        "'''\n",
        ".lower() → normal lowercase.\n",
        ".casefold() → super lowercase (handles more cases, good for comparisons).\n",
        "\n",
        "'''\n",
        "word = \"PyThOn Is AwEsOmE\"  # It converts the string to lower case\n",
        "print(word.casefold())\n",
        "\n",
        "word = \"Straße\"\n",
        "print(word.casefold())\n",
        "\n",
        "word1 = \"ß\"     # German sharp S\n",
        "word2 = \"ss\"\n",
        "print(word1.casefold() == word2)\n",
        "\n",
        "word = \"İstanbul\"  # Turkish i(Dotted I)\n",
        "print(word.casefold())\n",
        "\n",
        "word = \"தமிழ்\"    # Tamil\n",
        "print(word.casefold())"
      ]
    },
    {
      "cell_type": "code",
      "execution_count": 5,
      "metadata": {
        "colab": {
          "base_uri": "https://localhost:8080/"
        },
        "id": "3HnPGrr0wDtI",
        "outputId": "47d26d6d-f498-4676-a5da-83086eae4ab5"
      },
      "outputs": [
        {
          "name": "stdout",
          "output_type": "stream",
          "text": [
            "I LOVE PYTHON\n",
            "i love python\n",
            "I love python\n",
            "I Love Python\n",
            "I lOvE pYtHoN\n"
          ]
        }
      ],
      "source": [
        "text = \"i LoVe PyThOn\"\n",
        "\n",
        "print(text.upper())      # I LOVE PYTHON\n",
        "print(text.lower())      # i love python\n",
        "print(text.capitalize()) # I love python\n",
        "print(text.title())      # I Love Python\n",
        "print(text.swapcase())   # I lOvE pYtHoN\n",
        "print(text.casefold())   # i love python"
      ]
    },
    {
      "cell_type": "markdown",
      "metadata": {
        "id": "JazYgMZ30N91"
      },
      "source": [
        "**2) Alignment & Formatting Methods**\n",
        "\n",
        "1. center ( width, fillchar ): Places the text in the center of a given width.\n",
        "\n",
        "2. ljust ( width, fillchar ) : Aligns text to the left, padding the rest.\n",
        "\n",
        "3. rjust ( width, fillchar ) : Aligns text to the right, padding the rest.\n",
        "\n",
        "4. zfill ( width ) : Pads with zeros on the left until string reaches width.\n",
        "\n",
        "5. format ( ) : Used to format strings with placeholders {}.\n",
        "\n",
        "6. format_map ( mapping ) : Similar to format(), but takes a dictionary (or mapping object) directly."
      ]
    },
    {
      "cell_type": "code",
      "execution_count": 28,
      "metadata": {
        "colab": {
          "base_uri": "https://localhost:8080/"
        },
        "id": "twsJWfbPwd5g",
        "outputId": "a273846e-9bd3-4a66-9b94-3f528f65f8d3"
      },
      "outputs": [
        {
          "name": "stdout",
          "output_type": "stream",
          "text": [
            "-------Python-------\n"
          ]
        }
      ],
      "source": [
        "# center(width, fillchar)\n",
        "\n",
        "word = \"Python\"\n",
        "print(word.center(20, \"-\"))"
      ]
    },
    {
      "cell_type": "code",
      "execution_count": 54,
      "metadata": {
        "colab": {
          "base_uri": "https://localhost:8080/"
        },
        "id": "4b_UT6io3xLZ",
        "outputId": "153a3756-93c4-45df-8093-e161ad7e49f1"
      },
      "outputs": [
        {
          "name": "stdout",
          "output_type": "stream",
          "text": [
            "Left***********\n"
          ]
        }
      ],
      "source": [
        "# ljust(width, fillchar)\n",
        "\n",
        "word = \"Left\"\n",
        "print(word.ljust(15, \"*\"))"
      ]
    },
    {
      "cell_type": "code",
      "execution_count": 30,
      "metadata": {
        "colab": {
          "base_uri": "https://localhost:8080/"
        },
        "id": "EXBZJK4k6hDs",
        "outputId": "36c0a20e-1b25-42b5-99db-8be832c7b8d8"
      },
      "outputs": [
        {
          "name": "stdout",
          "output_type": "stream",
          "text": [
            "..........Right\n"
          ]
        }
      ],
      "source": [
        "# rjust(width, fillchar)\n",
        "\n",
        "word = \"Right\"\n",
        "print(word.rjust(15, \".\"))"
      ]
    },
    {
      "cell_type": "code",
      "execution_count": 31,
      "metadata": {
        "colab": {
          "base_uri": "https://localhost:8080/"
        },
        "id": "wE_808zg6ui7",
        "outputId": "2f0c9364-4eb3-42ae-9396-f7f931b68638"
      },
      "outputs": [
        {
          "name": "stdout",
          "output_type": "stream",
          "text": [
            "000042\n"
          ]
        }
      ],
      "source": [
        "# zfill(width)\n",
        "\n",
        "number = \"42\"\n",
        "print(number.zfill(6))"
      ]
    },
    {
      "cell_type": "code",
      "execution_count": 32,
      "metadata": {
        "colab": {
          "base_uri": "https://localhost:8080/"
        },
        "id": "9_9eUCbI63xb",
        "outputId": "407fd502-66f9-4981-83fe-22db7f0378d0"
      },
      "outputs": [
        {
          "name": "stdout",
          "output_type": "stream",
          "text": [
            "My name is Alice and I am 22 years old.\n",
            "I like coffee more than tea.\n"
          ]
        }
      ],
      "source": [
        "# format()\n",
        "\n",
        "name = \"Alice\"\n",
        "age = 22\n",
        "print(\"My name is {} and I am {} years old.\".format(name, age))\n",
        "\n",
        "print(\"I like {1} more than {0}.\".format(\"tea\", \"coffee\"))"
      ]
    },
    {
      "cell_type": "code",
      "execution_count": null,
      "metadata": {
        "id": "3gcHMBH46_3p"
      },
      "outputs": [],
      "source": [
        "# format_map()\n",
        "\n",
        "person = {\"name\": \"Alice\", \"age\": 22}\n",
        "print(\"My name is {name} and I am {age} years old.\".format_map(person))\n",
        "\n",
        "cart = {\"item\": \"Apple\", \"price\": 50, \"quantity\": 3}\n",
        "print(\"You bought {quantity} {item}s for {price} each.\".format_map(cart))"
      ]
    },
    {
      "cell_type": "markdown",
      "metadata": {
        "id": "pWT2W4zl8irR"
      },
      "source": [
        "**3) search & Find Methods**\n",
        "\n",
        "1. find ( ) : Returns the first index of a substring, or -1 if not found\n",
        "\n",
        "2. rfind ( ) : Returns the last index of a substring\n",
        "\n",
        "3. index ( ) : Same as find(), but throws an error if not found\n",
        "\n",
        "4. rindex ( ) : Same as rfind(), but raises an error if not found\n",
        "\n",
        "5. count ( ) :"
      ]
    },
    {
      "cell_type": "code",
      "execution_count": 33,
      "metadata": {
        "colab": {
          "base_uri": "https://localhost:8080/"
        },
        "id": "WfkYTbF58gaa",
        "outputId": "978b97e8-b695-48e6-e465-78c1913cdf61"
      },
      "outputs": [
        {
          "name": "stdout",
          "output_type": "stream",
          "text": [
            "13\n",
            "-1\n"
          ]
        }
      ],
      "source": [
        "# find()\n",
        "\n",
        "sentence = \"Monkeys love bananas more than apples\"\n",
        "print(sentence.find(\"bananas\"))   # 12\n",
        "print(sentence.find(\"oranges\"))"
      ]
    },
    {
      "cell_type": "code",
      "execution_count": 34,
      "metadata": {
        "colab": {
          "base_uri": "https://localhost:8080/"
        },
        "id": "aJsBusx4-iuW",
        "outputId": "77025b85-94c5-4529-c390-3efb7ff2b010"
      },
      "outputs": [
        {
          "name": "stdout",
          "output_type": "stream",
          "text": [
            "29\n",
            "-1\n"
          ]
        }
      ],
      "source": [
        "# rfind()\n",
        "\n",
        "sentence = \"I love pizza, pizza is life, pizza forever!\"\n",
        "print(sentence.rfind(\"pizza\"))   # 24 (last occurrence)\n",
        "print(sentence.rfind(\"burger\"))  # -1 (not found)"
      ]
    },
    {
      "cell_type": "code",
      "execution_count": 39,
      "metadata": {
        "colab": {
          "base_uri": "https://localhost:8080/"
        },
        "id": "0ZQE1uaW_4iq",
        "outputId": "2b7859af-414a-4fc1-ca87-649b9f561137"
      },
      "outputs": [
        {
          "name": "stdout",
          "output_type": "stream",
          "text": [
            "10\n"
          ]
        }
      ],
      "source": [
        "sentence = \"Run, run, run as fast as you can!\"\n",
        "print(sentence.rfind(\"run\"))"
      ]
    },
    {
      "cell_type": "code",
      "execution_count": 40,
      "metadata": {
        "colab": {
          "base_uri": "https://localhost:8080/"
        },
        "id": "QEr4aJueCE9K",
        "outputId": "b2422e58-6252-40d5-8a72-4211fd0265f5"
      },
      "outputs": [
        {
          "name": "stdout",
          "output_type": "stream",
          "text": [
            "14\n"
          ]
        }
      ],
      "source": [
        "# index()\n",
        "\n",
        "sentence = \"Math is hard, Science is interesting, History is long\"\n",
        "print(sentence.index(\"Science\"))"
      ]
    },
    {
      "cell_type": "code",
      "execution_count": 42,
      "metadata": {
        "colab": {
          "base_uri": "https://localhost:8080/"
        },
        "id": "ExlXtLOgEQoK",
        "outputId": "2d3b2bea-dc38-456f-f1d4-b4fcc443bb25"
      },
      "outputs": [
        {
          "name": "stdout",
          "output_type": "stream",
          "text": [
            "1\n",
            "12\n"
          ]
        }
      ],
      "source": [
        "word = \"Banana\"\n",
        "print(word.index(\"a\"))\n",
        "\n",
        "quote = \"Eat, sleep, code, repeat\"\n",
        "print(quote.index(\"code\"))"
      ]
    },
    {
      "cell_type": "code",
      "execution_count": 43,
      "metadata": {
        "colab": {
          "base_uri": "https://localhost:8080/",
          "height": 176
        },
        "id": "oSBVnfJaEvZA",
        "outputId": "d3577f76-b355-48aa-93b6-cbf9ee06da64"
      },
      "outputs": [
        {
          "ename": "ValueError",
          "evalue": "substring not found",
          "output_type": "error",
          "traceback": [
            "\u001b[0;31m---------------------------------------------------------------------------\u001b[0m",
            "\u001b[0;31mValueError\u001b[0m                                Traceback (most recent call last)",
            "\u001b[0;32m/tmp/ipython-input-2012814236.py\u001b[0m in \u001b[0;36m<cell line: 0>\u001b[0;34m()\u001b[0m\n\u001b[1;32m      2\u001b[0m \u001b[0;34m\u001b[0m\u001b[0m\n\u001b[1;32m      3\u001b[0m \u001b[0msentence\u001b[0m \u001b[0;34m=\u001b[0m \u001b[0;34m\"Breakfast, lunch, and dinner are important\"\u001b[0m\u001b[0;34m\u001b[0m\u001b[0;34m\u001b[0m\u001b[0m\n\u001b[0;32m----> 4\u001b[0;31m \u001b[0mprint\u001b[0m\u001b[0;34m(\u001b[0m\u001b[0msentence\u001b[0m\u001b[0;34m.\u001b[0m\u001b[0mindex\u001b[0m\u001b[0;34m(\u001b[0m\u001b[0;34m\"snack\"\u001b[0m\u001b[0;34m)\u001b[0m\u001b[0;34m)\u001b[0m\u001b[0;34m\u001b[0m\u001b[0;34m\u001b[0m\u001b[0m\n\u001b[0m",
            "\u001b[0;31mValueError\u001b[0m: substring not found"
          ]
        }
      ],
      "source": [
        "sentence = \"Breakfast, lunch, and dinner are important\"\n",
        "print(sentence.index(\"snack\"))"
      ]
    },
    {
      "cell_type": "code",
      "execution_count": 45,
      "metadata": {
        "colab": {
          "base_uri": "https://localhost:8080/"
        },
        "id": "0FZuz9NPE7ni",
        "outputId": "9503ef2a-b4b0-423c-826e-428350b53a9e"
      },
      "outputs": [
        {
          "name": "stdout",
          "output_type": "stream",
          "text": [
            "16\n"
          ]
        }
      ],
      "source": [
        "# rindex() : returns the starting index of the last occurrence.\n",
        "\n",
        "sentence = \"Pizza, burgers, pizza, and pasta\"\n",
        "print(sentence.rindex(\"pizza\"))"
      ]
    },
    {
      "cell_type": "code",
      "execution_count": 44,
      "metadata": {
        "colab": {
          "base_uri": "https://localhost:8080/",
          "height": 158
        },
        "id": "vKwH763jUP5P",
        "outputId": "700dca65-eee9-490f-f9b8-4ee4a9ab51d1"
      },
      "outputs": [
        {
          "ename": "ValueError",
          "evalue": "substring not found",
          "output_type": "error",
          "traceback": [
            "\u001b[0;31m---------------------------------------------------------------------------\u001b[0m",
            "\u001b[0;31mValueError\u001b[0m                                Traceback (most recent call last)",
            "\u001b[0;32m/tmp/ipython-input-3938580661.py\u001b[0m in \u001b[0;36m<cell line: 0>\u001b[0;34m()\u001b[0m\n\u001b[1;32m      1\u001b[0m \u001b[0mcity\u001b[0m \u001b[0;34m=\u001b[0m \u001b[0;34m\"Hyderabad is beautiful\"\u001b[0m\u001b[0;34m\u001b[0m\u001b[0;34m\u001b[0m\u001b[0m\n\u001b[0;32m----> 2\u001b[0;31m \u001b[0mprint\u001b[0m\u001b[0;34m(\u001b[0m\u001b[0mcity\u001b[0m\u001b[0;34m.\u001b[0m\u001b[0mrindex\u001b[0m\u001b[0;34m(\u001b[0m\u001b[0;34m\"Delhi\"\u001b[0m\u001b[0;34m)\u001b[0m\u001b[0;34m)\u001b[0m\u001b[0;34m\u001b[0m\u001b[0;34m\u001b[0m\u001b[0m\n\u001b[0m",
            "\u001b[0;31mValueError\u001b[0m: substring not found"
          ]
        }
      ],
      "source": [
        "city = \"Hyderabad is beautiful\"\n",
        "print(city.rindex(\"Delhi\"))"
      ]
    },
    {
      "cell_type": "code",
      "execution_count": 46,
      "metadata": {
        "colab": {
          "base_uri": "https://localhost:8080/"
        },
        "id": "xH1sq7smUm5f",
        "outputId": "7b71f871-6f42-4cc0-d372-8ee905f76183"
      },
      "outputs": [
        {
          "name": "stdout",
          "output_type": "stream",
          "text": [
            "3\n"
          ]
        }
      ],
      "source": [
        "# count()\n",
        "\n",
        "fruits = \"apple, banana, apple, orange, apple\"\n",
        "print(fruits.count(\"apple\"))"
      ]
    },
    {
      "cell_type": "code",
      "execution_count": 50,
      "metadata": {
        "colab": {
          "base_uri": "https://localhost:8080/"
        },
        "id": "K56PhMCtVFeR",
        "outputId": "00156477-e0b6-42b0-c105-01eef3a5758e"
      },
      "outputs": [
        {
          "name": "stdout",
          "output_type": "stream",
          "text": [
            "3\n"
          ]
        }
      ],
      "source": [
        "numbers = \"123123456123\"\n",
        "print(numbers.count(\"123\"))"
      ]
    },
    {
      "cell_type": "code",
      "execution_count": 49,
      "metadata": {
        "colab": {
          "base_uri": "https://localhost:8080/"
        },
        "id": "YE6PVDpIVGqb",
        "outputId": "644b9aab-a389-4837-dfc1-dffc5f080e79"
      },
      "outputs": [
        {
          "name": "stdout",
          "output_type": "stream",
          "text": [
            "7\n"
          ]
        }
      ],
      "source": [
        "str = \"abcabcababbcbcb\"\n",
        "print(str.count(\"b\"))"
      ]
    },
    {
      "cell_type": "code",
      "execution_count": 55,
      "metadata": {
        "colab": {
          "base_uri": "https://localhost:8080/"
        },
        "id": "b_DMMZK1VqUN",
        "outputId": "c79972cd-977b-44c6-cb0f-9811c5d5d0e5"
      },
      "outputs": [
        {
          "name": "stdout",
          "output_type": "stream",
          "text": [
            "3\n"
          ]
        }
      ],
      "source": [
        "s = \"Hello World\"\n",
        "print(s.count(\"l\"))"
      ]
    },
    {
      "cell_type": "markdown",
      "metadata": {
        "id": "8tDxB3umYBq9"
      },
      "source": [
        "**4) String Testing Methods ( Boolen Results )**\n",
        "\n",
        "1. startswith ( sub ) : Checks if a string starts with the given substring.\n",
        "\n",
        "2. endswith ( sub ) : Checks if a string ends with the given substring.\n",
        "\n",
        "3. isalpha ( ) : Checks if all characters are alphabets\n",
        "\n",
        "4. isalnum ( ) : Checks if all characters are alphanumeric (letters + numbers)\n",
        "\n",
        "5. islower ( ) : Checks if all characters are lowercase\n",
        "\n",
        "6. isupper ( ) : Checks if all characters are uppercase\n",
        "\n",
        "7. isspace ( ) : Checks if the string has only spaces (or whitespace characters)\n",
        "\n",
        "8. istitle ( ) : Checks if the string is in title case (each word starts with uppercase)\n",
        "\n",
        "9. isidentifier ( ) : Checks whether a string is a valid Python identifier"
      ]
    },
    {
      "cell_type": "code",
      "execution_count": 59,
      "metadata": {
        "colab": {
          "base_uri": "https://localhost:8080/"
        },
        "id": "X-4nVni8YBLt",
        "outputId": "c0e83559-00be-4e33-dff9-e65846005d06"
      },
      "outputs": [
        {
          "name": "stdout",
          "output_type": "stream",
          "text": [
            "True\n",
            "False\n",
            "True\n"
          ]
        }
      ],
      "source": [
        "# startwith(sub)\n",
        "\n",
        "sentence = \"Artificial Intelligence is amazing\"\n",
        "print(sentence.startswith(\"Artificial\"))\n",
        "print(sentence.startswith(\"Intelligence\"))\n",
        "print(sentence.startswith(\"Art\"))\n"
      ]
    },
    {
      "cell_type": "code",
      "execution_count": 60,
      "metadata": {
        "colab": {
          "base_uri": "https://localhost:8080/"
        },
        "id": "KWLt9wN3c3sE",
        "outputId": "e286bf9b-d6d1-4a36-b7ba-a9665fad23e0"
      },
      "outputs": [
        {
          "name": "stdout",
          "output_type": "stream",
          "text": [
            "AI-101\n",
            "AI-202\n",
            "AI-303\n"
          ]
        }
      ],
      "source": [
        "flights = [\"AI-101\", \"AI-202\", \"BA-300\", \"DL-450\", \"AI-303\"]\n",
        "\n",
        "for flight in flights:\n",
        "    if flight.startswith(\"AI\"):\n",
        "        print(flight)"
      ]
    },
    {
      "cell_type": "code",
      "execution_count": 61,
      "metadata": {
        "colab": {
          "base_uri": "https://localhost:8080/"
        },
        "id": "S68lHotedSTT",
        "outputId": "857e2b35-775c-4374-9848-7e142eba5be5"
      },
      "outputs": [
        {
          "name": "stdout",
          "output_type": "stream",
          "text": [
            "CSE101\n",
            "CSE103\n",
            "CSE105\n"
          ]
        }
      ],
      "source": [
        "roll_numbers = [\"CSE101\", \"ECE102\", \"CSE103\", \"ME104\", \"CSE105\"]\n",
        "\n",
        "for roll in roll_numbers:\n",
        "    if roll.startswith(\"CSE\"):\n",
        "        print(roll)"
      ]
    },
    {
      "cell_type": "code",
      "execution_count": 62,
      "metadata": {
        "colab": {
          "base_uri": "https://localhost:8080/"
        },
        "id": "w4bRByYfdmIz",
        "outputId": "4cba5751-90ba-4f93-c275-700624a487ed"
      },
      "outputs": [
        {
          "name": "stdout",
          "output_type": "stream",
          "text": [
            "True\n",
            "False\n"
          ]
        }
      ],
      "source": [
        "# endswith(sub)\n",
        "\n",
        "filename = \"report.pdf\"\n",
        "print(filename.endswith(\".pdf\"))\n",
        "print(filename.endswith(\".docx\"))"
      ]
    },
    {
      "cell_type": "code",
      "execution_count": 63,
      "metadata": {
        "colab": {
          "base_uri": "https://localhost:8080/"
        },
        "id": "jROH0tZ1eyc2",
        "outputId": "efcad062-02ed-4419-d052-5dfd336cd607"
      },
      "outputs": [
        {
          "name": "stdout",
          "output_type": "stream",
          "text": [
            "notes.txt\n",
            "summary.txt\n"
          ]
        }
      ],
      "source": [
        "files = ['notes.txt', 'data.csv', 'report.pdf', 'image.jpg', 'summary.txt', 'script.py']\n",
        "\n",
        "for f in files:\n",
        "    if f.endswith('.txt'):\n",
        "        print(f)"
      ]
    },
    {
      "cell_type": "code",
      "execution_count": 64,
      "metadata": {
        "colab": {
          "base_uri": "https://localhost:8080/"
        },
        "id": "6RO0f_7cfGg7",
        "outputId": "2cec6894-ac73-44a5-9f13-67370bbd58a1"
      },
      "outputs": [
        {
          "name": "stdout",
          "output_type": "stream",
          "text": [
            "True\n",
            "False\n"
          ]
        }
      ],
      "source": [
        "# isalpha()\n",
        "\n",
        "word = \"Hello\"\n",
        "print(word.isalpha())\n",
        "\n",
        "word2 = \"Hello123\"\n",
        "print(word2.isalpha())"
      ]
    },
    {
      "cell_type": "code",
      "execution_count": 65,
      "metadata": {
        "colab": {
          "base_uri": "https://localhost:8080/"
        },
        "id": "_QCTE6MLfYwA",
        "outputId": "dcb37c91-d791-4960-a64a-0d55b90cf92e"
      },
      "outputs": [
        {
          "name": "stdout",
          "output_type": "stream",
          "text": [
            "True\n",
            "False\n"
          ]
        }
      ],
      "source": [
        "# isdigit()\n",
        "\n",
        "num1 = \"2025\"\n",
        "print(num1.isdigit())\n",
        "\n",
        "num2 = \"20A5\"\n",
        "print(num2.isdigit())"
      ]
    },
    {
      "cell_type": "code",
      "execution_count": 66,
      "metadata": {
        "colab": {
          "base_uri": "https://localhost:8080/"
        },
        "id": "ekNPeM-TfsyP",
        "outputId": "49491c30-a74b-4396-f6d2-b87ceb9c096c"
      },
      "outputs": [
        {
          "name": "stdout",
          "output_type": "stream",
          "text": [
            "True\n",
            "False\n"
          ]
        }
      ],
      "source": [
        "# isalnum()\n",
        "\n",
        "data = \"Python3\"\n",
        "print(data.isalnum())\n",
        "\n",
        "data2 = \"Python 3\"\n",
        "print(data2.isalnum())"
      ]
    },
    {
      "cell_type": "code",
      "execution_count": null,
      "metadata": {
        "id": "r-x06hcjgChq"
      },
      "outputs": [],
      "source": [
        "# islower()\n",
        "\n",
        "name = \"python\"\n",
        "print(name.islower())\n",
        "\n",
        "name2 = \"Python\"\n",
        "print(name2.islower())"
      ]
    },
    {
      "cell_type": "code",
      "execution_count": null,
      "metadata": {
        "id": "u31Iz-19gUxU"
      },
      "outputs": [],
      "source": [
        "# isupper()\n",
        "\n",
        "code = \"HELLO\"\n",
        "print(code.isupper())\n",
        "\n",
        "code2 = \"Hello\"\n",
        "print(code2.isupper())"
      ]
    },
    {
      "cell_type": "code",
      "execution_count": 67,
      "metadata": {
        "colab": {
          "base_uri": "https://localhost:8080/"
        },
        "id": "N4Bv_lkxgevb",
        "outputId": "e0272944-af9d-4d6b-fc69-8f940938ad98"
      },
      "outputs": [
        {
          "name": "stdout",
          "output_type": "stream",
          "text": [
            "True\n",
            "False\n"
          ]
        }
      ],
      "source": [
        "# isspace()\n",
        "\n",
        "space = \"   \"\n",
        "print(space.isspace())\n",
        "\n",
        "mixed = \"  Hello  \"  # it should not cointaing any characters inside the string\n",
        "print(mixed.isspace())"
      ]
    },
    {
      "cell_type": "code",
      "execution_count": 68,
      "metadata": {
        "colab": {
          "base_uri": "https://localhost:8080/"
        },
        "id": "pH2QxKuXhh-B",
        "outputId": "9613ccba-fa4f-4bad-adf3-6ff7677d57c5"
      },
      "outputs": [
        {
          "name": "stdout",
          "output_type": "stream",
          "text": [
            "True\n",
            "False\n"
          ]
        }
      ],
      "source": [
        "# istitle()\n",
        "\n",
        "t1 = \"Python Programming\"\n",
        "print(t1.istitle())\n",
        "\n",
        "t2 = \"Python programming\"\n",
        "print(t2.istitle())"
      ]
    },
    {
      "cell_type": "code",
      "execution_count": 74,
      "metadata": {
        "colab": {
          "base_uri": "https://localhost:8080/"
        },
        "id": "jwjG1yhBh3AG",
        "outputId": "d43fded4-5fa2-486a-e0d0-15b3d81f08c4"
      },
      "outputs": [
        {
          "name": "stdout",
          "output_type": "stream",
          "text": [
            "True\n",
            "True\n",
            "False\n",
            "False\n",
            "True\n"
          ]
        }
      ],
      "source": [
        "# isidentifier()\n",
        "\n",
        "print(\"var1\".isidentifier())\n",
        "print(\"_temp\".isidentifier())\n",
        "print(\"2cool\".isidentifier())\n",
        "print(\"@var\".isidentifier())"
      ]
    },
    {
      "cell_type": "markdown",
      "metadata": {
        "id": "1obYrgc8nj2h"
      },
      "source": [
        "**isdecimal()**\n",
        "\n",
        "-> Returns True only if all characters are decimal digits (0–9).\n",
        "\n",
        "-> No fractions, superscripts, or Roman numerals allowed."
      ]
    },
    {
      "cell_type": "code",
      "execution_count": 79,
      "metadata": {
        "colab": {
          "base_uri": "https://localhost:8080/"
        },
        "id": "Yo7MCbVDi7Cm",
        "outputId": "4cd5859e-b47c-4edf-9493-a7e7674d7af8"
      },
      "outputs": [
        {
          "name": "stdout",
          "output_type": "stream",
          "text": [
            "True\n",
            "True\n",
            "True\n",
            "False\n",
            "True\n",
            "True\n",
            "False\n",
            "False\n"
          ]
        }
      ],
      "source": [
        "print(\"123\".isdigit())  # Standard decimal digit\n",
        "print(\"②\".isdigit())  # Enclosed number 2 (not numeric)\n",
        "print(\"²\".isdigit())  # Superscript 2\n",
        "print(\"½\".isdigit())   # Unicode fraction one-half\n",
        "print('١٢٣'.isdigit())  # Arabic-Indic number (123)\n",
        "print('۵'.isdigit())    # Persian digit (5)\n",
        "print('Ⅻ'.isdigit())  # Roman numeral 12 (Unicode)\n",
        "print('五'.isdigit())  # Chinese numeral for five\n"
      ]
    },
    {
      "cell_type": "markdown",
      "metadata": {
        "id": "cLh7icSjnLEc"
      },
      "source": [
        "**isdigit ( )**\n",
        "\n",
        "-> Returns True if all characters are digits.\n",
        "\n",
        "-> Includes decimals (0–9), superscripts, and other Unicode digits."
      ]
    },
    {
      "cell_type": "code",
      "execution_count": 78,
      "metadata": {
        "colab": {
          "base_uri": "https://localhost:8080/"
        },
        "id": "wkdklZarkFzY",
        "outputId": "748c69ab-90f0-4cff-ad36-1db591d08e24"
      },
      "outputs": [
        {
          "name": "stdout",
          "output_type": "stream",
          "text": [
            "True\n",
            "True\n",
            "True\n",
            "False\n",
            "True\n",
            "True\n",
            "False\n",
            "False\n"
          ]
        }
      ],
      "source": [
        "print(\"123\".isdigit())  # Standard decimal digit\n",
        "print(\"②\".isdigit())  # Enclosed number 2 (not numeric)\n",
        "print(\"²\".isdigit())  # Superscript 2\n",
        "print(\"½\".isdigit())   # Unicode fraction one-half\n",
        "print('١٢٣'.isdigit())  # Arabic-Indic number (123)\n",
        "print('۵'.isdigit())    # Persian digit (5)\n",
        "print('Ⅻ'.isdigit())  # Roman numeral 12 (Unicode)\n",
        "print('五'.isdigit())  # Chinese numeral for five\n"
      ]
    },
    {
      "cell_type": "markdown",
      "metadata": {
        "id": "NU14pzUpnwjq"
      },
      "source": [
        "**isnumeric ( )**\n",
        "\n",
        "-> Returns True if all characters are numeric.\n",
        "\n",
        "-> Includes digits, fractions, Roman numerals, etc."
      ]
    },
    {
      "cell_type": "code",
      "execution_count": 82,
      "metadata": {
        "colab": {
          "base_uri": "https://localhost:8080/"
        },
        "id": "PWxJAfiIl84b",
        "outputId": "49456a4c-ec4f-4939-edc4-eacdbdbe2a52"
      },
      "outputs": [
        {
          "name": "stdout",
          "output_type": "stream",
          "text": [
            "True\n",
            "True\n",
            "True\n",
            "True\n",
            "True\n",
            "True\n",
            "True\n",
            "True\n"
          ]
        }
      ],
      "source": [
        "print(\"123\".isnumeric())  # Standard decimal digit\n",
        "print(\"②\".isnumeric())  # Enclosed number 2 (not numeric)\n",
        "print(\"²\".isnumeric())  # Superscript 2\n",
        "print(\"½\".isnumeric())   # Unicode fraction one-half\n",
        "print('١٢٣'.isnumeric())  # Arabic-Indic number (123)\n",
        "print('۵'.isnumeric())    # Persian digit (5)\n",
        "print('Ⅻ'.isnumeric())  # Roman numeral 12 (Unicode)\n",
        "print('五'.isnumeric())  # Chinese numeral for five"
      ]
    },
    {
      "cell_type": "markdown",
      "metadata": {
        "id": "8PUe8lH4oiAG"
      },
      "source": [
        "# 5) Replace & Modify Methods\n",
        "\n",
        "1. replace ( old, new ) : Replaces occurrences of a substring with another.\n",
        "\n",
        "2. maketrans ( ) : Creates a mapping table for character replacements.\n",
        "\n",
        "3. translate ( table ) : Uses the mapping table (from maketrans()) to replace characters.\n",
        "\n"
      ]
    },
    {
      "cell_type": "code",
      "execution_count": 83,
      "metadata": {
        "colab": {
          "base_uri": "https://localhost:8080/"
        },
        "id": "mMxIBfT3qeWE",
        "outputId": "11d5d76b-73cf-498b-d907-4b563982ea29"
      },
      "outputs": [
        {
          "name": "stdout",
          "output_type": "stream",
          "text": [
            "I like mangoes, mangoes are sweet.\n",
            "I like mangoes, apples are sweet.\n"
          ]
        }
      ],
      "source": [
        "# replace(old,new): works with substrings directly.\n",
        "\n",
        "sentence = \"I like apples, apples are sweet.\"\n",
        "\n",
        "print(sentence.replace(\"apples\", \"mangoes\"))\n",
        "print(sentence.replace(\"apples\", \"mangoes\", 1))"
      ]
    },
    {
      "cell_type": "code",
      "execution_count": 1,
      "metadata": {
        "colab": {
          "base_uri": "https://localhost:8080/"
        },
        "id": "5bgX3lo0rAkW",
        "outputId": "3bf29b5a-e6c0-47ae-dbae-c2e502a0525e"
      },
      "outputs": [
        {
          "name": "stdout",
          "output_type": "stream",
          "text": [
            "D-Jango\n"
          ]
        }
      ],
      "source": [
        "s='Django'\n",
        "print(s.replace('j','-J'))"
      ]
    },
    {
      "cell_type": "code",
      "execution_count": 88,
      "metadata": {
        "colab": {
          "base_uri": "https://localhost:8080/"
        },
        "id": "DQ632-QRrlEw",
        "outputId": "e129ca0e-5954-4afd-b04f-3ec0b9be3606"
      },
      "outputs": [
        {
          "name": "stdout",
          "output_type": "stream",
          "text": [
            "pythonprogramminglanguage\n"
          ]
        }
      ],
      "source": [
        "s='python programming language'\n",
        "print(s.replace(' ',''))"
      ]
    },
    {
      "cell_type": "code",
      "execution_count": 6,
      "metadata": {
        "colab": {
          "base_uri": "https://localhost:8080/"
        },
        "id": "APpFXOYKtuHc",
        "outputId": "63568554-0382-4f59-896d-9c76d226f01e"
      },
      "outputs": [
        {
          "name": "stdout",
          "output_type": "stream",
          "text": [
            "2d5c1t34n\n"
          ]
        }
      ],
      "source": [
        "# maketrans(): creates a reusable mapping table.\n",
        "\n",
        "mapping = str.maketrans(\"aeiou\", \"12345\")\n",
        "\n",
        "text = \"education\"\n",
        "print(text.translate(mapping))"
      ]
    },
    {
      "cell_type": "code",
      "execution_count": 5,
      "metadata": {
        "colab": {
          "base_uri": "https://localhost:8080/"
        },
        "id": "jvxofKt1vNUD",
        "outputId": "0b0464ac-d840-47aa-d82d-7d79136afc0d"
      },
      "outputs": [
        {
          "name": "stdout",
          "output_type": "stream",
          "text": [
            "{97: 49, 98: 50, 99: 51}\n",
            "123 312\n"
          ]
        }
      ],
      "source": [
        "table = str.maketrans(\"abc\", \"123\")\n",
        "print(table)\n",
        "print(\"abc cab\".translate(table))"
      ]
    },
    {
      "cell_type": "code",
      "execution_count": 7,
      "metadata": {
        "colab": {
          "base_uri": "https://localhost:8080/"
        },
        "id": "Tk9mueTHrxUJ",
        "outputId": "e11d6cfe-6956-4cee-83f1-966b08aead29"
      },
      "outputs": [
        {
          "name": "stdout",
          "output_type": "stream",
          "text": [
            "Hell Wrld\n"
          ]
        }
      ],
      "source": [
        "# translate(table): applies that table to modify text (replace/remove multiple chars at once).\n",
        "\n",
        "data = \"hello world\"\n",
        "\n",
        "table = str.maketrans({\"h\": \"H\", \"w\": \"W\", \"o\": None})\n",
        "\n",
        "print(data.translate(table))\n"
      ]
    },
    {
      "cell_type": "code",
      "execution_count": 8,
      "metadata": {
        "colab": {
          "base_uri": "https://localhost:8080/"
        },
        "id": "ueEPalPSusKd",
        "outputId": "5b18fef8-f0e1-49d2-c04f-7ded20d44079"
      },
      "outputs": [
        {
          "name": "stdout",
          "output_type": "stream",
          "text": [
            "onetwothreefourfive\n"
          ]
        }
      ],
      "source": [
        "nums = \"12345\"\n",
        "table = str.maketrans({\"1\": \"one\", \"2\": \"two\", \"3\": \"three\", \"4\": \"four\", \"5\": \"five\"})\n",
        "print(nums.translate(table))"
      ]
    },
    {
      "cell_type": "markdown",
      "metadata": {
        "id": "F4I28l46wSDo"
      },
      "source": [
        "# 6. Splitting & Joining Methods\n",
        "\n",
        "1. split(sep) : Splits the string from the left using the given separator.\n",
        "\n",
        "2. rsplit(sep) : Splits the string from the right side using the given separator.\n",
        "\n",
        "3. splitlines() : Splits a string at line breaks (\\n).\n",
        "\n",
        "4. join(iterable) : Joins elements of an iterable into a single string.\n",
        "\n",
        "5. partition(sep) : Splits into 3 parts: (before separator, separator, after separator).\n",
        "\n",
        "6. rpartition(sep) : Similar to partition(), but starts splitting from the right."
      ]
    },
    {
      "cell_type": "code",
      "execution_count": 12,
      "metadata": {
        "colab": {
          "base_uri": "https://localhost:8080/"
        },
        "id": "nH2QJUvPvyGy",
        "outputId": "ed342893-eccc-4ade-fe8a-f22410c75ada"
      },
      "outputs": [
        {
          "name": "stdout",
          "output_type": "stream",
          "text": [
            "['apple', 'banana', 'cherry', 'grapes']\n",
            "['one', 'two', 'three four five']\n"
          ]
        }
      ],
      "source": [
        "# split(sep)\n",
        "\n",
        "text = \"apple,banana,cherry,grapes\"\n",
        "print(text.split(\",\"))\n",
        "\n",
        "line = \"one two three four five\"\n",
        "print(line.split(\" \", 2))"
      ]
    },
    {
      "cell_type": "code",
      "execution_count": 13,
      "metadata": {
        "colab": {
          "base_uri": "https://localhost:8080/"
        },
        "id": "hrJYilYkzIx-",
        "outputId": "1e82ac8f-f282-4b1b-841b-9951ce7d1062"
      },
      "outputs": [
        {
          "name": "stdout",
          "output_type": "stream",
          "text": [
            "['name-age', 'location']\n",
            "['a-b', 'c', 'd']\n"
          ]
        }
      ],
      "source": [
        "# rsplit(sep)\n",
        "\n",
        "data = \"name-age-location\"\n",
        "print(data.rsplit(\"-\", 1))\n",
        "\n",
        "words = \"a-b-c-d\"\n",
        "print(words.rsplit(\"-\", 2))"
      ]
    },
    {
      "cell_type": "code",
      "execution_count": 14,
      "metadata": {
        "colab": {
          "base_uri": "https://localhost:8080/"
        },
        "id": "uWjhh5jgzgPr",
        "outputId": "0b26ccfe-8f1e-478b-b71c-cd7146f7984e"
      },
      "outputs": [
        {
          "name": "stdout",
          "output_type": "stream",
          "text": [
            "['Hello', 'How are you?', 'I am fine.']\n",
            "['Line1', 'Line2', 'Line3']\n"
          ]
        }
      ],
      "source": [
        "# splitlines()\n",
        "\n",
        "para = \"Hello\\nHow are you?\\nI am fine.\"\n",
        "print(para.splitlines())\n",
        "\n",
        "para2 = \"Line1\\rLine2\\r\\nLine3\"\n",
        "print(para2.splitlines())"
      ]
    },
    {
      "cell_type": "code",
      "execution_count": 33,
      "metadata": {
        "colab": {
          "base_uri": "https://localhost:8080/"
        },
        "id": "i93025omzzYW",
        "outputId": "49b7f79c-297d-4d4c-ddd0-0aa6c89b34c5"
      },
      "outputs": [
        {
          "name": "stdout",
          "output_type": "stream",
          "text": [
            "Python is fun\n",
            "applebananacherry\n",
            "apple banana cherry\n",
            "apple @ banana @ cherry\n",
            "apple , banana , cherry\n",
            "apple + banana + cherry\n"
          ]
        }
      ],
      "source": [
        "# join(iterable)\n",
        "\n",
        "words = ['Python', 'is', 'fun']\n",
        "print(\" \".join(words))\n",
        "\n",
        "fruits = ['apple', 'banana', 'cherry']\n",
        "print(\"\".join(fruits))\n",
        "print(\" \".join(fruits))\n",
        "print(\" @ \".join(fruits))\n",
        "print(\" , \".join(fruits))\n",
        "print(\" + \".join(fruits))"
      ]
    },
    {
      "cell_type": "code",
      "execution_count": 34,
      "metadata": {
        "colab": {
          "base_uri": "https://localhost:8080/"
        },
        "id": "LwHN0IsSz7J1",
        "outputId": "5de720b2-fb54-45a5-d2af-4732cbfac1b3"
      },
      "outputs": [
        {
          "name": "stdout",
          "output_type": "stream",
          "text": [
            "('Hello', '-', 'World')\n",
            "('python ', 'is', ' awesome')\n"
          ]
        }
      ],
      "source": [
        "# partition(sep)\n",
        "\n",
        "text = \"Hello-World\"\n",
        "print(text.partition(\"-\"))\n",
        "\n",
        "text2 = \"python is awesome\"\n",
        "print(text2.partition(\"is\"))"
      ]
    },
    {
      "cell_type": "code",
      "execution_count": 35,
      "metadata": {
        "colab": {
          "base_uri": "https://localhost:8080/"
        },
        "id": "7AgU9XHn0Can",
        "outputId": "26a32ecc-1adf-4591-9fb2-7a50093f666b"
      },
      "outputs": [
        {
          "name": "stdout",
          "output_type": "stream",
          "text": [
            "('one-two', '-', 'three')\n",
            "('a b c d', ' ', 'e')\n"
          ]
        }
      ],
      "source": [
        "# rpartition(sep)\n",
        "\n",
        "text = \"one-two-three\"\n",
        "print(text.rpartition(\"-\"))\n",
        "\n",
        "line = \"a b c d e\"\n",
        "print(line.rpartition(\" \"))"
      ]
    },
    {
      "cell_type": "markdown",
      "metadata": {
        "id": "H5lvI9Wg0MmM"
      },
      "source": [
        "## 7. Whitespaces & Trimming Methods\n",
        "\n",
        "1. strip(chars) : Removes leading (left) and trailing (right) whitespaces or given characters.\n",
        "\n",
        "2. lstrip(chars) : Removes characters/whitespaces only from the left side.\n",
        "\n",
        "3. rstrip(chars) : Removes characters/whitespaces only from the right side."
      ]
    },
    {
      "cell_type": "code",
      "execution_count": 16,
      "metadata": {
        "colab": {
          "base_uri": "https://localhost:8080/"
        },
        "id": "pf9A5LSv0Int",
        "outputId": "2ba2538d-7bd2-4677-cc7c-1158b3f2f02d"
      },
      "outputs": [
        {
          "name": "stdout",
          "output_type": "stream",
          "text": [
            "hello world\n",
            "Python\n"
          ]
        }
      ],
      "source": [
        "# strip(chars)\n",
        "\n",
        "text = \"   hello world   \"\n",
        "print(text.strip())\n",
        "\n",
        "word = \"###Python###\"\n",
        "print(word.strip(\"#\"))"
      ]
    },
    {
      "cell_type": "code",
      "execution_count": 19,
      "metadata": {
        "colab": {
          "base_uri": "https://localhost:8080/"
        },
        "id": "aaClBbjn1HBI",
        "outputId": "d411d457-1aa9-4831-c5d0-66555ccd5305"
      },
      "outputs": [
        {
          "name": "stdout",
          "output_type": "stream",
          "text": [
            "hello world   \n",
            "Python---\n"
          ]
        }
      ],
      "source": [
        "# lstrip()\n",
        "\n",
        "text = \"   hello world   \"\n",
        "print(text.lstrip())\n",
        "\n",
        "word = \"---Python---\"\n",
        "print(word.lstrip(\"-\"))"
      ]
    },
    {
      "cell_type": "code",
      "execution_count": 20,
      "metadata": {
        "colab": {
          "base_uri": "https://localhost:8080/"
        },
        "id": "sLlfECMu1RfZ",
        "outputId": "8b56ffb4-f9af-4b96-a408-71115606f80c"
      },
      "outputs": [
        {
          "name": "stdout",
          "output_type": "stream",
          "text": [
            "   hello world\n",
            "---Python\n"
          ]
        }
      ],
      "source": [
        "# rstrip()\n",
        "\n",
        "text = \"   hello world   \"\n",
        "print(text.rstrip())\n",
        "\n",
        "word = \"---Python---\"\n",
        "print(word.rstrip(\"-\"))"
      ]
    },
    {
      "cell_type": "markdown",
      "metadata": {
        "id": "8Tj-U3_V1svh"
      },
      "source": [
        "# 8. Encoding & Decoding Methods\n",
        "\n",
        "1. encode(encoding) : Converts a string into a bytes object (encoded form).\n",
        "\n",
        "2. decode(encoding) : Converts bytes back to a string (decoded form).\n"
      ]
    },
    {
      "cell_type": "code",
      "execution_count": 28,
      "metadata": {
        "colab": {
          "base_uri": "https://localhost:8080/"
        },
        "id": "LUaghiJH2I9m",
        "outputId": "83d1215b-764f-49ca-ad0b-55351994e3c1"
      },
      "outputs": [
        {
          "name": "stdout",
          "output_type": "stream",
          "text": [
            "b'Hello World'\n",
            "b'\\xe0\\xa4\\xa8\\xe0\\xa4\\xae\\xe0\\xa4\\xb8\\xe0\\xa5\\x8d\\xe0\\xa4\\xa4\\xe0\\xa5\\x87'\n",
            "b'Hello \\xe0\\xa4\\xa8\\xe0\\xa4\\xae\\xe0\\xa4\\xa4\\xe0\\xa5\\x87\\xe4\\xbd\\xa0\\xe5\\xa5\\xbd caf\\xc3\\xa9 \\xf0\\x9f\\x99\\x82'\n"
          ]
        }
      ],
      "source": [
        "# encode()\n",
        "\n",
        "text = \"Hello World\"\n",
        "\n",
        "encoded_text = text.encode()\n",
        "print(encoded_text)\n",
        "\n",
        "hindi_text = \"नमस्ते\"\n",
        "print(hindi_text.encode())\n",
        "\n",
        "text1 = \"Hello नमते你好 café 🙂\"\n",
        "print(text1.encode())"
      ]
    },
    {
      "cell_type": "code",
      "execution_count": 29,
      "metadata": {
        "colab": {
          "base_uri": "https://localhost:8080/"
        },
        "id": "lzNB1IKM2r9W",
        "outputId": "03cd0c1b-360d-4f3e-8a2b-9450164f5187"
      },
      "outputs": [
        {
          "name": "stdout",
          "output_type": "stream",
          "text": [
            "Hello World\n",
            "नमस्ते\n",
            "Hello नमते你好 café 🙂\n"
          ]
        }
      ],
      "source": [
        "# decode()\n",
        "\n",
        "encoded_text = b'Hello World'\n",
        "decoded_text = encoded_text.decode()\n",
        "print(decoded_text)\n",
        "\n",
        "encoded_hindi = b'\\xe0\\xa4\\xa8\\xe0\\xa4\\xae\\xe0\\xa4\\xb8\\xe0\\xa5\\x8d\\xe0\\xa4\\xa4\\xe0\\xa5\\x87'\n",
        "print(encoded_hindi.decode())\n",
        "\n",
        "encoded_text1 = b'Hello \\xe0\\xa4\\xa8\\xe0\\xa4\\xae\\xe0\\xa4\\xa4\\xe0\\xa5\\x87\\xe4\\xbd\\xa0\\xe5\\xa5\\xbd caf\\xc3\\xa9 \\xf0\\x9f\\x99\\x82'\n",
        "print(encoded_text1.decode())"
      ]
    }
  ],
  "metadata": {
    "accelerator": "GPU",
    "colab": {
      "gpuType": "T4",
      "provenance": []
    },
    "kernelspec": {
      "display_name": "base",
      "language": "python",
      "name": "python3"
    },
    "language_info": {
      "codemirror_mode": {
        "name": "ipython",
        "version": 3
      },
      "file_extension": ".py",
      "mimetype": "text/x-python",
      "name": "python",
      "nbconvert_exporter": "python",
      "pygments_lexer": "ipython3",
      "version": "3.12.7"
    }
  },
  "nbformat": 4,
  "nbformat_minor": 0
}
